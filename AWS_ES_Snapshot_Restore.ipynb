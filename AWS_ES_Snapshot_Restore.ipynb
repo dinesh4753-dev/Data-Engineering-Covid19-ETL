{
  "nbformat": 4,
  "nbformat_minor": 0,
  "metadata": {
    "colab": {
      "name": "AWS ES_Snapshot_Restore.ipynb",
      "provenance": [],
      "collapsed_sections": [],
      "authorship_tag": "ABX9TyNlGitpXrgFGnB7ZrguZNen",
      "include_colab_link": true
    },
    "kernelspec": {
      "name": "python3",
      "display_name": "Python 3"
    }
  },
  "cells": [
    {
      "cell_type": "markdown",
      "metadata": {
        "id": "view-in-github",
        "colab_type": "text"
      },
      "source": [
        "<a href=\"https://colab.research.google.com/github/skyprince999/Data-Engineering-Covid19-ETL/blob/master/AWS_ES_Snapshot_Restore.ipynb\" target=\"_parent\"><img src=\"https://colab.research.google.com/assets/colab-badge.svg\" alt=\"Open In Colab\"/></a>"
      ]
    },
    {
      "cell_type": "code",
      "metadata": {
        "id": "-mhZOP9pGG4T",
        "colab_type": "code",
        "colab": {}
      },
      "source": [
        "from google.colab import drive\n",
        "drive.mount('/content/drive')"
      ],
      "execution_count": null,
      "outputs": []
    },
    {
      "cell_type": "code",
      "metadata": {
        "id": "oYJBIqJdGO9o",
        "colab_type": "code",
        "colab": {}
      },
      "source": [
        "!curl ipecho.net/plain # Get ip of Colab notebook # 35.204.243.12 #35.196.39.8"
      ],
      "execution_count": null,
      "outputs": []
    },
    {
      "cell_type": "code",
      "metadata": {
        "id": "T8PQEEa7Gnir",
        "colab_type": "code",
        "colab": {}
      },
      "source": [
        "#Install required packages\n",
        "!pip3 install -U elasticsearch\n",
        "!pip3 install -U jsonlines\n",
        "!pip3 install requests-aws4auth"
      ],
      "execution_count": null,
      "outputs": []
    },
    {
      "cell_type": "code",
      "metadata": {
        "id": "7H58himBRK8M",
        "colab_type": "code",
        "colab": {}
      },
      "source": [
        "\n",
        "# Install AWS CLIv2 \n",
        "!curl \"https://awscli.amazonaws.com/awscli-exe-linux-x86_64.zip\" -o \"awscliv2.zip\"\n",
        "!unzip awscliv2.zip\n",
        "!sudo ./aws/install"
      ],
      "execution_count": null,
      "outputs": []
    },
    {
      "cell_type": "code",
      "metadata": {
        "id": "BrOP0uhcROqI",
        "colab_type": "code",
        "colab": {}
      },
      "source": [
        "!aws configure   # For personal account - I use the elastic user ID "
      ],
      "execution_count": null,
      "outputs": []
    },
    {
      "cell_type": "code",
      "metadata": {
        "id": "riN7NEf2HUvz",
        "colab_type": "code",
        "colab": {}
      },
      "source": [
        "\n",
        "from datetime import datetime\n",
        "from elasticsearch import Elasticsearch\n",
        "from elasticsearch import helpers\n",
        "import time\n",
        "import jsonlines\n",
        "\n",
        "import boto3\n",
        "import requests\n",
        "from requests_aws4auth import AWS4Auth\n",
        "import pprint"
      ],
      "execution_count": null,
      "outputs": []
    },
    {
      "cell_type": "code",
      "metadata": {
        "id": "SkE9rGXwWKam",
        "colab_type": "code",
        "colab": {}
      },
      "source": [
        "pp = pprint.PrettyPrinter(indent=4)"
      ],
      "execution_count": null,
      "outputs": []
    },
    {
      "cell_type": "code",
      "metadata": {
        "id": "rghDQfovSFac",
        "colab_type": "code",
        "colab": {}
      },
      "source": [
        "host = 'https://search-covidtweets-XXXXXXXXXXXXXXXXXXXXXXXXXXXXX.es.amazonaws.com/' #domain host ip for accessing the elasticsearch domain\n",
        "region = 'us-east-1' # For example, us-west-1\n",
        "service = 'es'\n",
        "credentials = boto3.Session().get_credentials()\n",
        "awsauth = AWS4Auth(credentials.access_key, credentials.secret_key, region, service, session_token=credentials.token)\n",
        "role = 'arn:aws:iam::XXXXXXXXXXXXXXXXXXXX:role/service-role/elasticLambdaRole' # role for accessing ES and lambda function"
      ],
      "execution_count": null,
      "outputs": []
    },
    {
      "cell_type": "code",
      "metadata": {
        "id": "z3vyMoAcSiH6",
        "colab_type": "code",
        "colab": {
          "base_uri": "https://localhost:8080/",
          "height": 51
        },
        "outputId": "d24261e5-11f7-4c77-cbbf-866002d03fc9"
      },
      "source": [
        "# Register repository\n",
        "path = '_snapshot/es-covid-backup' # the Elasticsearch API endpoint\n",
        "url = host + path\n",
        "\n",
        "payload = {\n",
        "  \"type\": \"s3\",\n",
        "  \"settings\": {\n",
        "    \"bucket\": \"es-covid-backup\",\n",
        "    \"region\": region,\n",
        "    \"role_arn\": role\n",
        "  }\n",
        "}\n",
        "\n",
        "headers = {\"Content-Type\": \"application/json\"}\n",
        "\n",
        "r = requests.put(url, auth=awsauth, json=payload, headers=headers)\n",
        "\n",
        "print(r.status_code)\n",
        "print(r.text)"
      ],
      "execution_count": null,
      "outputs": [
        {
          "output_type": "stream",
          "text": [
            "200\n",
            "{\"acknowledged\":true}\n"
          ],
          "name": "stdout"
        }
      ]
    },
    {
      "cell_type": "code",
      "metadata": {
        "id": "1pPhkJ9kSyxg",
        "colab_type": "code",
        "colab": {}
      },
      "source": [
        "  # Once S3 repository is registered, we can get details of the available snapshot\n",
        "path = '_snapshot/_all' # the Elasticsearch API endpoint\n",
        "url = host + path\n",
        "\n",
        "payload = {\n",
        "  \"type\": \"s3\",\n",
        "  \"settings\": {\n",
        "    \"bucket\": \"es-covid-backup\",\n",
        "    \"region\": region,\n",
        "    \"role_arn\": role\n",
        "  }\n",
        "}\n",
        "\n",
        "headers = {\"Content-Type\": \"application/json\"}\n",
        "\n",
        "r = requests.get(url, auth=awsauth, headers=headers)\n",
        "\n",
        "print(r.status_code)\n",
        "print(r.text)"
      ],
      "execution_count": null,
      "outputs": []
    },
    {
      "cell_type": "code",
      "metadata": {
        "id": "-0YAZYGXQFkh",
        "colab_type": "code",
        "colab": {
          "base_uri": "https://localhost:8080/",
          "height": 68
        },
        "outputId": "670ac341-9089-48fa-dada-569e3be193bd"
      },
      "source": [
        "# Get list of available snapshot\n",
        "path = '_cat/snapshots/es-covid-backup'\n",
        "url = host + path\n",
        "\n",
        "r = requests.get(url, auth=awsauth)\n",
        "\n",
        "print(r.text)\n"
      ],
      "execution_count": null,
      "outputs": [
        {
          "output_type": "stream",
          "text": [
            "covidtweets-14082020    SUCCESS 1597421569 16:12:49 1597422119 16:21:59  9.1m 2 3 0 3\n",
            "covidtweets-14082020_v2 SUCCESS 1597425559 17:19:19 1597425582 17:19:42 22.6s 2 3 0 3\n",
            "\n"
          ],
          "name": "stdout"
        }
      ]
    },
    {
      "cell_type": "code",
      "metadata": {
        "id": "Z8cBkOtXZyyO",
        "colab_type": "code",
        "colab": {
          "base_uri": "https://localhost:8080/",
          "height": 34
        },
        "outputId": "685436d3-50e5-4ed5-e123-7e9ca494d033"
      },
      "source": [
        "# Take a snapshot\n",
        "path = '_snapshot/es-covid-backup/covidtweets-14082020_v3'\n",
        "url = host + path\n",
        "\n",
        "r = requests.put(url, auth=awsauth)\n",
        "\n",
        "print(r.text)\n"
      ],
      "execution_count": null,
      "outputs": [
        {
          "output_type": "stream",
          "text": [
            "{\"accepted\":true}\n"
          ],
          "name": "stdout"
        }
      ]
    },
    {
      "cell_type": "code",
      "metadata": {
        "id": "ghaPImKHaBzT",
        "colab_type": "code",
        "colab": {}
      },
      "source": [
        "# check status of  snapshot\n",
        "path = '_snapshot/es-covid-backup/covidtweets-14082020_v2/_status'\n",
        "url = host + path\n",
        "\n",
        "r = requests.get(url, auth=awsauth)\n",
        "\n",
        "print(r.text)\n"
      ],
      "execution_count": null,
      "outputs": []
    },
    {
      "cell_type": "code",
      "metadata": {
        "id": "DuHDjBtiaO1A",
        "colab_type": "code",
        "colab": {}
      },
      "source": [
        "# # Delete index\n",
        "\n",
        "# path = 'covidtweets'#'covidtweets' # '.kibana_1'#\n",
        "# url = host + path\n",
        "\n",
        "# r = requests.delete(url, auth=awsauth)\n",
        "\n",
        "# print(r.text)"
      ],
      "execution_count": null,
      "outputs": []
    },
    {
      "cell_type": "code",
      "metadata": {
        "id": "JbACuwgbVUIH",
        "colab_type": "code",
        "colab": {
          "base_uri": "https://localhost:8080/",
          "height": 34
        },
        "outputId": "3471a8d7-3b81-418b-a184-b9003d150ef7"
      },
      "source": [
        "# Restore snapshot (all indices except Kibana and fine-grained access control)\n",
        "\n",
        "path = '_snapshot/es-covid-backup/covidtweets-14082020_v2/_restore'\n",
        "url = host + path\n",
        "\n",
        "# # Restore all indices\n",
        "# # payload = {\n",
        "# #   \"indices\": \"-.kibana*,-.opendistro_security\",\n",
        "# #   \"include_global_state\": False\n",
        "# # }\n",
        "\n",
        "\n",
        "# # Restore snapshot (one index)\n",
        "\n",
        "payload = {\"indices\": \"covidtweets\"}\n",
        "\n",
        "headers = {\"Content-Type\": \"application/json\"}\n",
        "\n",
        "r = requests.post(url, auth=awsauth, json=payload, headers=headers)\n",
        "\n",
        "print(r.text)\n"
      ],
      "execution_count": null,
      "outputs": [
        {
          "output_type": "stream",
          "text": [
            "{\"accepted\":true}\n"
          ],
          "name": "stdout"
        }
      ]
    },
    {
      "cell_type": "code",
      "metadata": {
        "id": "7BJucVbFMjBG",
        "colab_type": "code",
        "colab": {}
      },
      "source": [
        "path = 'covidtweets/_recovery' # Get status on index recovery\n",
        "url = host + path\n",
        "r = requests.get(url, auth=awsauth, headers=headers)\n",
        "\n",
        "print(r.text)\n"
      ],
      "execution_count": null,
      "outputs": []
    }
  ]
}