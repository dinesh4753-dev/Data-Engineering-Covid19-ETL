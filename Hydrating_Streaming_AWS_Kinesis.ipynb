{
  "nbformat": 4,
  "nbformat_minor": 0,
  "metadata": {
    "colab": {
      "name": "Hydrating_Streaming_AWS_Kinesis.ipynb",
      "provenance": [],
      "collapsed_sections": [],
      "authorship_tag": "ABX9TyOaHGCIL0hWcz+p0bXlolro",
      "include_colab_link": true
    },
    "kernelspec": {
      "name": "python3",
      "display_name": "Python 3"
    }
  },
  "cells": [
    {
      "cell_type": "markdown",
      "metadata": {
        "id": "view-in-github",
        "colab_type": "text"
      },
      "source": [
        "<a href=\"https://colab.research.google.com/github/skyprince999/Data-Engineering-Covid19-ETL/blob/master/Hydrating_Streaming_AWS_Kinesis.ipynb\" target=\"_parent\"><img src=\"https://colab.research.google.com/assets/colab-badge.svg\" alt=\"Open In Colab\"/></a>"
      ]
    },
    {
      "cell_type": "markdown",
      "metadata": {
        "id": "KJEvcm5cfbQ2",
        "colab_type": "text"
      },
      "source": [
        "Tweet IDs from the repository are hydrated and instead of storing to disk are piped to a AWS Kinesis data-stream. \n",
        "\n",
        "From there they are read into a Spark streaming context for processing.\n",
        "\n",
        "The following attributes are extracted from the tweets -\n",
        "\n",
        "1. User Id\n",
        "2. User mentions\n",
        "3. hashtags\n",
        "4. full text of tweet\n",
        "5. sentiment analysis using text-blob\n",
        "\n",
        "\n",
        "\n"
      ]
    },
    {
      "cell_type": "code",
      "metadata": {
        "id": "eiAarujuQ9aC",
        "colab_type": "code",
        "colab": {}
      },
      "source": [
        "!git clone https://github.com/echen102/COVID-19-TweetIDs"
      ],
      "execution_count": null,
      "outputs": []
    },
    {
      "cell_type": "code",
      "metadata": {
        "id": "nPBlO-5EZGoM",
        "colab_type": "code",
        "colab": {}
      },
      "source": [
        "#Twarc is used to hydrate the tweets- don't run this\n",
        "!pip install twarc\n",
        "!twarc configure"
      ],
      "execution_count": null,
      "outputs": []
    },
    {
      "cell_type": "code",
      "metadata": {
        "id": "68Ws76ZqvvUO",
        "colab_type": "code",
        "colab": {}
      },
      "source": [
        "!sudo cat /root/.twarc"
      ],
      "execution_count": null,
      "outputs": []
    },
    {
      "cell_type": "code",
      "metadata": {
        "id": "km7uehYYaiHI",
        "colab_type": "code",
        "colab": {}
      },
      "source": [
        " \n",
        "import boto3\n",
        "import json\n",
        "import time\n",
        "\n",
        "import random"
      ],
      "execution_count": null,
      "outputs": []
    },
    {
      "cell_type": "code",
      "metadata": {
        "id": "xrkDOSnyY6Ou",
        "colab_type": "code",
        "colab": {}
      },
      "source": [
        "import gzip\n",
        "import json\n",
        "import os \n",
        "\n",
        "from tqdm import tqdm\n",
        "from twarc import Twarc\n",
        "from pathlib import Path\n",
        "import pathlib\n",
        "\n",
        "twarc = Twarc()\n",
        "data_dirs = ['COVID-19-TweetIDs/2020-01', 'COVID-19-TweetIDs/2020-02', 'COVID-19-TweetIDs/2020-03', 'COVID-19-TweetIDs/2020-04', \n",
        "             'COVID-19-TweetIDs/2020-05', 'COVID-19-TweetIDs/2020-06', 'COVID-19-TweetIDs/2020-07', 'COVID-19-TweetIDs/2020-08', 'COVID-19-TweetIDs/2020-09']  "
      ],
      "execution_count": null,
      "outputs": []
    },
    {
      "cell_type": "code",
      "metadata": {
        "id": "RVCEm6UXXCPO",
        "colab_type": "code",
        "colab": {}
      },
      "source": [
        "# Get all files in the repo\n",
        "fileList = list()\n",
        "for data_dir in data_dirs:\n",
        "  p = Path(data_dir).glob('**/*')\n",
        "  files = [x for x in p if x.is_file()]\n",
        "  fileList.extend(files)\n",
        "\n",
        "# Randomly choose 30% of all files and then shuffle the list \n",
        "sampleN = int(round(len(fileList)*0.3, 0)) # 4570 >> 1371 \n",
        "fileListN = random.sample(fileList, sampleN)\n",
        "random.shuffle(fileListN)\n",
        "print(len(fileListN))"
      ],
      "execution_count": null,
      "outputs": []
    },
    {
      "cell_type": "code",
      "metadata": {
        "id": "CXgqW6HhMZ4j",
        "colab_type": "code",
        "colab": {}
      },
      "source": [
        "!# Add filelist to skip tweets that were processed in previous iteration"
      ],
      "execution_count": null,
      "outputs": []
    },
    {
      "cell_type": "code",
      "metadata": {
        "id": "Z4NXkQknNA_S",
        "colab_type": "code",
        "colab": {}
      },
      "source": [
        "for file in fileList:\n",
        "   try:\n",
        "     fileListN.remove(pathlib.PosixPath(file))\n",
        "   except:\n",
        "    pass"
      ],
      "execution_count": null,
      "outputs": []
    },
    {
      "cell_type": "code",
      "metadata": {
        "id": "bgloY2BgY94q",
        "colab_type": "code",
        "colab": {}
      },
      "source": [
        "def main():\n",
        "  for path in fileListN:\n",
        "    if path.name.endswith('.txt'):\n",
        "      hydrate(path)\n"
      ],
      "execution_count": null,
      "outputs": []
    },
    {
      "cell_type": "code",
      "metadata": {
        "id": "4FGcDFw5ZmqF",
        "colab_type": "code",
        "colab": {}
      },
      "source": [
        "def _reader_generator(reader):\n",
        "    b = reader(1024 * 1024)\n",
        "    while b:\n",
        "        yield b\n",
        "        b = reader(1024 * 1024)\n"
      ],
      "execution_count": null,
      "outputs": []
    },
    {
      "cell_type": "code",
      "metadata": {
        "id": "1Ohqak60ZpBK",
        "colab_type": "code",
        "colab": {}
      },
      "source": [
        "def raw_newline_count(fname):\n",
        "    \"\"\"\n",
        "    Counts number of lines in file\n",
        "    \"\"\"\n",
        "    f = open(fname, 'rb')\n",
        "    f_gen = _reader_generator(f.raw.read)\n",
        "    return sum(buf.count(b'\\n') for buf in f_gen)\n"
      ],
      "execution_count": null,
      "outputs": []
    },
    {
      "cell_type": "code",
      "metadata": {
        "id": "yrhKxdtbc7dC",
        "colab_type": "code",
        "colab": {}
      },
      "source": [
        "def get_record(tweet):\n",
        "  \"\"\"\n",
        "  Return data bytes\n",
        "  \"\"\"\n",
        "  record = json.dumps(tweet)\n",
        "\n",
        "  return {'Data': bytes(record, 'utf-8') }  # << Use this if sending to a Firehose\n",
        "  #return [{'Data': bytes(record, 'utf-8'), 'PartitionKey': 'partition_key'}] # << This isto be used if passing the data to a Kinesis DataStream"
      ],
      "execution_count": null,
      "outputs": []
    },
    {
      "cell_type": "code",
      "metadata": {
        "id": "MV8SY3uoZruH",
        "colab_type": "code",
        "colab": {}
      },
      "source": [
        "def hydrate(id_file):\n",
        "    # create kinesis client connection\n",
        "    kinesis_client = boto3.client('firehose', # Change this to kinesis if you are using a Data stream \n",
        "                                  region_name='us-east-1',  # enter the region\n",
        "                                  aws_access_key_id='XXXXXXXXXXXXXXXXXXXXXX',  # fill your AWS access key id (should have access to Kinesis resources)\n",
        "                                  aws_secret_access_key='XXXXXXXXXXXXXXXXXXXXXXXXXXXXXXXXX')  # fill you aws secret access key\n",
        "\n",
        "    print('hydrating {}'.format(id_file))\n",
        "\n",
        "    gzip_path = id_file.with_suffix('.jsonl.gz')\n",
        "    if gzip_path.is_file():\n",
        "        print('skipping json file already exists: {}'.format(gzip_path))\n",
        "        return\n",
        "\n",
        "    num_ids = raw_newline_count(id_file)\n",
        "    tweet_list = list()\n",
        "    with gzip.open(gzip_path, 'w') as output:\n",
        "        with tqdm(total=num_ids) as pbar:\n",
        "            for tweet in twarc.hydrate(id_file.open()):\n",
        "                record = get_record(tweet)\n",
        "                kinesis_client.put_record(DeliveryStreamName=\"covid-stream\", Record= record) # << This is for a Firehose\n",
        "                tweet_list=list()\n",
        "                \n",
        "                # The below code should be place after the for loop. Takes one out of 3 tweets\n",
        "                #tweet_list.append(tweet)\n",
        "                #if len(tweet_list) == 3: # Take sample from N recent tweets\n",
        "                #  tweet_r = random.choice(tweet_list)\n",
        "                  \n",
        "                #output.write(json.dumps(tweet).encode('utf8') + b\"\\n\")  # This is used to write to a jsonl file\n",
        "                #kinesis_client.put_record(StreamName=\"covid-stream\", Records= record) # << This is for a Kinesis Data Stream\n",
        "                pbar.update(1)\n",
        "        "
      ],
      "execution_count": null,
      "outputs": []
    },
    {
      "cell_type": "code",
      "metadata": {
        "id": "p2OLjFH4qvBx",
        "colab_type": "code",
        "colab": {}
      },
      "source": [
        "# !rm -rf COVID-19-TweetIDs/2020-06/coronavirus-tweet-id-2020-06-14-10.jsonl.gz\n",
        "# !rm -rf COVID-19-TweetIDs/2020-05/coronavirus-tweet-id-2020-05-01-23.jsonl.gz\n",
        "# !rm -rf COVID-19-TweetIDs/2020-07/coronavirus-tweet-id-2020-07-15-19.jsonl.gz"
      ],
      "execution_count": null,
      "outputs": []
    },
    {
      "cell_type": "code",
      "metadata": {
        "id": "BP5eUrGPZu7l",
        "colab_type": "code",
        "colab": {}
      },
      "source": [
        "if __name__ == \"__main__\":\n",
        "    main()"
      ],
      "execution_count": null,
      "outputs": []
    },
    {
      "cell_type": "code",
      "metadata": {
        "id": "vBjBwJxWss2q",
        "colab_type": "code",
        "colab": {}
      },
      "source": [
        "break here"
      ],
      "execution_count": null,
      "outputs": []
    },
    {
      "cell_type": "code",
      "metadata": {
        "id": "xJj-Ai3VI8G_",
        "colab_type": "code",
        "colab": {}
      },
      "source": [
        ""
      ],
      "execution_count": null,
      "outputs": []
    }
  ]
}